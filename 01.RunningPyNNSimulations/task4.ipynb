{
 "cells": [
  {
   "cell_type": "markdown",
   "metadata": {},
   "source": [
    "# STDP Network (Moderate)\n",
    "This task will create a simple network involving STDP learning rules.\n",
    "\n",
    "Set up the simulator with a 1.0ms time step."
   ]
  },
  {
   "cell_type": "code",
   "execution_count": null,
   "metadata": {},
   "outputs": [],
   "source": []
  },
  {
   "cell_type": "markdown",
   "metadata": {},
   "source": [
    "Add two single-neuron LIF populations, called \"pre\" and \"post\".  Record the spikes from these populations."
   ]
  },
  {
   "cell_type": "code",
   "execution_count": null,
   "metadata": {},
   "outputs": [],
   "source": []
  },
  {
   "cell_type": "markdown",
   "metadata": {},
   "source": [
    "Create a Spike Pair rule with a tau_plus of 10.0 and a tau_minus of 1.0ms and an A_plus and A_minus of 0.5"
   ]
  },
  {
   "cell_type": "code",
   "execution_count": null,
   "metadata": {},
   "outputs": [],
   "source": []
  },
  {
   "cell_type": "markdown",
   "metadata": {},
   "source": [
    "Create an Additive Weight Dependence with a minimum weight of 0 and a maximum of 5.0."
   ]
  },
  {
   "cell_type": "code",
   "execution_count": null,
   "metadata": {},
   "outputs": [],
   "source": []
  },
  {
   "cell_type": "markdown",
   "metadata": {},
   "source": [
    "Create a Projection with a OneToOneConnector and an STDP Mechanism type using the rules above, with a initial weight of 0."
   ]
  },
  {
   "cell_type": "code",
   "execution_count": null,
   "metadata": {},
   "outputs": [],
   "source": []
  },
  {
   "cell_type": "markdown",
   "metadata": {},
   "source": [
    "Create a SpikeSourceArray population called \"pre_stim\" which will be used to stimulate the \"pre\" neurons.  Set this up to spike at the following times: [0, 10, 30, 40, 50, 60, 70, 80, 90, 110, 120].  Note the gaps in the times!  These will be used to show that the post-neuron is initially not connected to the pre-neuron (it has a weight of 0), but becomes connected after training."
   ]
  },
  {
   "cell_type": "code",
   "execution_count": null,
   "metadata": {},
   "outputs": [],
   "source": []
  },
  {
   "cell_type": "markdown",
   "metadata": {},
   "source": [
    "Create a SpikeSourceArray population called \"post_stim\" which will be used to stimulate the \"post\" neurons.  Set this up to spike 2 seconds after the neurons in pre_stim, but only for the times between 30 and 90 (remember, the other times are to test the results)."
   ]
  },
  {
   "cell_type": "code",
   "execution_count": null,
   "metadata": {},
   "outputs": [],
   "source": []
  },
  {
   "cell_type": "markdown",
   "metadata": {},
   "source": [
    "Add static projections from \"pre_stim\" to \"pre\" and \"post_stim\" to \"post\".  Note that a weight of 5.0 should be enough to force an IF_curr_exp neuron to fire with the default parameters."
   ]
  },
  {
   "cell_type": "code",
   "execution_count": null,
   "metadata": {},
   "outputs": [],
   "source": []
  },
  {
   "cell_type": "markdown",
   "metadata": {},
   "source": [
    "Run the network for 150ms."
   ]
  },
  {
   "cell_type": "code",
   "execution_count": null,
   "metadata": {},
   "outputs": [],
   "source": []
  },
  {
   "cell_type": "markdown",
   "metadata": {},
   "source": [
    "Extract and plot the spike times of \"pre\" and \"post\"."
   ]
  },
  {
   "cell_type": "code",
   "execution_count": null,
   "metadata": {},
   "outputs": [],
   "source": []
  },
  {
   "cell_type": "markdown",
   "metadata": {},
   "source": [
    "Extract and print the weights of the STDP projection."
   ]
  },
  {
   "cell_type": "code",
   "execution_count": null,
   "metadata": {},
   "outputs": [],
   "source": []
  },
  {
   "cell_type": "markdown",
   "metadata": {},
   "source": [
    "You should be able to see that the weights have changed from the starting values, and that by the end of\n",
    "the simulation, the second neuron should spike shortly after the first neuron.\n",
    "\n",
    "## Extension\n",
    "Alter the parameters of the STDP connection, and the relative timing of the spikes. \n",
    "\n",
    "## Extension 2\n",
    "Try starting with a large initial weight and see if you can get the weight to reduce using the relative timing of the spikes.  You may need to adjust the tau_minus and tau_plus parameters in the above to avoid unwanted effects."
   ]
  },
  {
   "cell_type": "code",
   "execution_count": null,
   "metadata": {},
   "outputs": [],
   "source": []
  }
 ],
 "metadata": {
 },
 "nbformat": 4,
 "nbformat_minor": 2
}
