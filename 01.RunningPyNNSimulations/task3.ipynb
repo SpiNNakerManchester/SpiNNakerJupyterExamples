{
 "cells": [
  {
   "cell_type": "markdown",
   "metadata": {},
   "source": [
    "# Balanced Random Cortex-like Network (Hard)\n",
    "This task will create a network that this similar to part of the Cortex in the brain. This will take some input\n",
    "from outside of the network, representing other surrounding neurons in the form of poisson spike sources.\n",
    "These will then feed into an excitatory and an inhibitory network set up in a balanced random network. This\n",
    "will use distributions of weights and delays as would occur in the brain.\n",
    "\n",
    "Create a variable containing the number of neurons to be simulated in the network and set this to 100."
   ]
  },
  {
   "cell_type": "code",
   "execution_count": null,
   "metadata": {},
   "outputs": [],
   "source": []
  },
  {
   "cell_type": "markdown",
   "metadata": {},
   "source": [
    "Set up the simulation to use 0.1ms timesteps."
   ]
  },
  {
   "cell_type": "code",
   "execution_count": null,
   "metadata": {},
   "outputs": [],
   "source": []
  },
  {
   "cell_type": "markdown",
   "metadata": {},
   "source": [
    "Create an excitatory population with 80% of the neurons and an inhibitory population with 20% of\n",
    "the neurons (hint: the number of neurons needs to be an integer)."
   ]
  },
  {
   "cell_type": "code",
   "execution_count": null,
   "metadata": {},
   "outputs": [],
   "source": []
  },
  {
   "cell_type": "markdown",
   "metadata": {},
   "source": [
    "Create excitatory poisson stimulation population with 80% of the neurons and an inhibitory poisson\n",
    "stimulation population with 20% of the neurons, both with a rate of 1000Hz.\n"
   ]
  },
  {
   "cell_type": "code",
   "execution_count": null,
   "metadata": {},
   "outputs": [],
   "source": []
  },
  {
   "cell_type": "markdown",
   "metadata": {},
   "source": [
    "Create a one-to-one excitatory connection from the excitatory poisson stimulation population to the\n",
    "excitatory population with a weight of 0.11nA and a delay of 1.0ms."
   ]
  },
  {
   "cell_type": "code",
   "execution_count": null,
   "metadata": {},
   "outputs": [],
   "source": []
  },
  {
   "cell_type": "markdown",
   "metadata": {},
   "source": [
    "Create a similar excitatory connection from the inhibitory poisson stimulation population to the\n",
    "inhibitory population."
   ]
  },
  {
   "cell_type": "code",
   "execution_count": null,
   "metadata": {},
   "outputs": [],
   "source": []
  },
  {
   "cell_type": "markdown",
   "metadata": {},
   "source": [
    "Create two excitatory connections from the excitatory population to itself and to the inhibitory population. Use:\n",
    " - a fixed probability of connection of 0.1\n",
    " - a normal distribution of weights with a mean of 0.1 and a standard deviation of 0.1 (remember to add a boundary to make the weights positive; hint: use a high of numpy.inf to only limit the lower weights)\n",
    " - a normal distribution of delays with a mean of 1.5 and standard deviation of 0.75 (remember to add aboundary to keep the delays within the allowed range of 0.1ms and 14.4ms on SpiNNaker)."
   ]
  },
  {
   "cell_type": "code",
   "execution_count": null,
   "metadata": {},
   "outputs": [],
   "source": []
  },
  {
   "cell_type": "markdown",
   "metadata": {},
   "source": [
    "Create two similar connections between the inhibitory population and itself and the excitatory population, but make these \"inhibitory\" and make the weights four times as big."
   ]
  },
  {
   "cell_type": "code",
   "execution_count": null,
   "metadata": {},
   "outputs": [],
   "source": []
  },
  {
   "cell_type": "markdown",
   "metadata": {},
   "source": [
    "Initialize the membrane voltages of the excitatory and inhibitory populations to a uniform random\n",
    "number between -65.0 and -55.0."
   ]
  },
  {
   "cell_type": "code",
   "execution_count": null,
   "metadata": {},
   "outputs": [],
   "source": []
  },
  {
   "cell_type": "markdown",
   "metadata": {},
   "source": [
    "Record the spikes from the excitatory population."
   ]
  },
  {
   "cell_type": "code",
   "execution_count": null,
   "metadata": {},
   "outputs": [],
   "source": []
  },
  {
   "cell_type": "markdown",
   "metadata": {},
   "source": [
    "Run the simulation for 1 second."
   ]
  },
  {
   "cell_type": "code",
   "execution_count": null,
   "metadata": {},
   "outputs": [],
   "source": []
  },
  {
   "cell_type": "markdown",
   "metadata": {},
   "source": [
    "Retrieve and plot the spikes.  Ensure that you end the simulation!"
   ]
  },
  {
   "cell_type": "code",
   "execution_count": null,
   "metadata": {},
   "outputs": [],
   "source": []
  },
  {
   "cell_type": "markdown",
   "metadata": {},
   "source": [
    "The graph should show what is known as Asynchronous Irregular spiking activity - this means that the\n",
    "neurons in the population don’t spike very often and when they do, it is not at the same time as other\n",
    "neurons in the population.\n",
    "\n",
    "## Extension\n",
    "\n",
    "Try adding an additional Population of 100 neurons that stimulates the excitatory population with 50Hz noise using an all-to-all connector, and a weight of 0.01nA.  See what other behaviour you can get by trying to alter the rate of this new Population."
   ]
  },
  {
   "cell_type": "code",
   "execution_count": null,
   "metadata": {},
   "outputs": [],
   "source": []
  }
 ],
 "metadata": {
  "kernelspec": {
   "display_name": "EBRAINS-experimental",
   "language": "python",
   "name": "ebrains-experimental"
  },
  "title": "Task 1.3",
 },
 "nbformat": 4,
 "nbformat_minor": 2
}
