{
 "cells": [
  {
   "cell_type": "markdown",
   "metadata": {},
   "source": [
    "# STDP Curve (Hard)\n",
    "This task will attempt to plot an STDP curve, showing how the weight change varies with timing between\n",
    "spikes.\n",
    "\n",
    "Set up the simulation to use a 1ms time step."
   ]
  },
  {
   "cell_type": "code",
   "execution_count": null,
   "metadata": {},
   "outputs": [],
   "source": [
    "import spynnaker.pyNN as p\n",
    "p.setup(1.0)"
   ]
  },
  {
   "cell_type": "markdown",
   "metadata": {},
   "source": [
    "Create a population of 100 presynaptic neurons."
   ]
  },
  {
   "cell_type": "code",
   "execution_count": null,
   "metadata": {},
   "outputs": [],
   "source": [
    "pre = p.Population(100, p.IF_curr_exp())"
   ]
  },
  {
   "cell_type": "markdown",
   "metadata": {},
   "source": [
    "Create a spike source array population of 100 sources connected to the presynaptic population. Set\n",
    "the spikes in the arrays so that each spikes twice 200ms apart, and that the first spike for each is\n",
    "1ms after the first spike of the last e.g. [[0, 200], [1, 201], …] (hint: you can do this with a list\n",
    "comprehension).  Note the second spike is to make sure that the STDP computations take place with the deferred execution model."
   ]
  },
  {
   "cell_type": "code",
   "execution_count": null,
   "metadata": {},
   "outputs": [],
   "source": [
    "pre_stim = p.Population(100, p.SpikeSourceArray([[i, 200 + i] for i in range(100)]))\n",
    "p.Projection(pre_stim, pre, p.OneToOneConnector(), p.StaticSynapse(weight=5.0))"
   ]
  },
  {
   "cell_type": "markdown",
   "metadata": {},
   "source": [
    "Create a population of 100 postsynaptic neurons."
   ]
  },
  {
   "cell_type": "code",
   "execution_count": null,
   "metadata": {},
   "outputs": [],
   "source": [
    "post = p.Population(100, p.IF_curr_exp())"
   ]
  },
  {
   "cell_type": "markdown",
   "metadata": {},
   "source": [
    "Create a spike source array connected to the postsynaptic neurons all spiking at 50ms."
   ]
  },
  {
   "cell_type": "code",
   "execution_count": null,
   "metadata": {},
   "outputs": [],
   "source": [
    "post_stim = p.Population(1, p.SpikeSourceArray([50]))\n",
    "p.Projection(post_stim, post, p.AllToAllConnector(), p.StaticSynapse(weight=5.0))"
   ]
  },
  {
   "cell_type": "markdown",
   "metadata": {},
   "source": [
    "Record the spikes from the presynaptic and postsynaptic populations."
   ]
  },
  {
   "cell_type": "code",
   "execution_count": null,
   "metadata": {},
   "outputs": [],
   "source": [
    "pre.record(\"spikes\")\n",
    "post.record(\"spikes\")"
   ]
  },
  {
   "cell_type": "markdown",
   "metadata": {},
   "source": [
    "Connect the presynaptic population to the postsynaptic population with an STDP projection with an\n",
    "initial weight of 0.5 and a maximum of 1 and minimum of 0, and a tau_plus and tau_minus of 20.0 and an A_plus and A_minus of 0.1"
   ]
  },
  {
   "cell_type": "code",
   "execution_count": null,
   "metadata": {},
   "outputs": [],
   "source": [
    "timing = p.SpikePairRule(tau_plus=20.0, tau_minus=20.0, A_plus=0.1, A_minus=0.1)\n",
    "weight = p.AdditiveWeightDependence(w_min=0.0, w_max=1.0)\n",
    "proj = p.Projection(pre, post, p.OneToOneConnector(), p.STDPMechanism(timing_dependence=timing, weight_dependence=weight, weight=0.5))"
   ]
  },
  {
   "cell_type": "markdown",
   "metadata": {},
   "source": [
    "Run the simulation for 500ms."
   ]
  },
  {
   "cell_type": "code",
   "execution_count": null,
   "metadata": {},
   "outputs": [],
   "source": [
    "p.run(500)"
   ]
  },
  {
   "cell_type": "markdown",
   "metadata": {},
   "source": [
    "Get the weights and the presynaptic and postsynaptic spikes."
   ]
  },
  {
   "cell_type": "code",
   "execution_count": null,
   "metadata": {},
   "outputs": [],
   "source": [
    "import numpy\n",
    "weights = numpy.array(proj.get(\"weight\", \"list\", with_address=False))\n",
    "pre_spikes = pre.get_data(\"spikes\").segments[0].spiketrains\n",
    "post_spikes = post.get_data(\"spikes\").segments[0].spiketrains\n",
    "p.end()"
   ]
  },
  {
   "cell_type": "markdown",
   "metadata": {},
   "source": [
    "Draw a graph of the weight changes from the initial weight value against the difference in\n",
    "presynaptic and postsynaptic neurons (hint: the presynaptic neurons should spike twice but the\n",
    "postsynaptic should only spike once; you are looking for the first spike from each presynaptic\n",
    "neuron)."
   ]
  },
  {
   "cell_type": "code",
   "execution_count": null,
   "metadata": {},
   "outputs": [],
   "source": [
    "weight_diff = weights - 0.5\n",
    "time_diff = [pre_neuron_spikes[0] - post_neuron_spikes[0] for pre_neuron_spikes, post_neuron_spikes in zip(pre_spikes, post_spikes)]"
   ]
  },
  {
   "cell_type": "code",
   "execution_count": null,
   "metadata": {},
   "outputs": [],
   "source": [
    "import matplotlib.pyplot as plt\n",
    "\n",
    "plt.figure()\n",
    "plt.plot(time_diff, weight_diff)\n",
    "plt.show()"
   ]
  },
  {
   "cell_type": "code",
   "execution_count": null,
   "metadata": {},
   "outputs": [],
   "source": []
  }
 ],
 "metadata": {
 },
 "nbformat": 4,
 "nbformat_minor": 2
}
