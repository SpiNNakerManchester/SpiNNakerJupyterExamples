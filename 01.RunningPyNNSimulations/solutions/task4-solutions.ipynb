{
 "cells": [
  {
   "cell_type": "markdown",
   "metadata": {},
   "source": [
    "# STDP Network (Moderate)\n",
    "This task will create a simple network involving STDP learning rules.\n",
    "\n",
    "Set up the simulator with a 1.0ms time step."
   ]
  },
  {
   "cell_type": "code",
   "execution_count": null,
   "metadata": {},
   "outputs": [],
   "source": [
    "import spynnaker.pyNN as p\n",
    "p.setup(1.0)"
   ]
  },
  {
   "cell_type": "markdown",
   "metadata": {},
   "source": [
    "Add two single-neuron LIF populations, called \"pre\" and \"post\".  Record the spikes from these populations."
   ]
  },
  {
   "cell_type": "code",
   "execution_count": null,
   "metadata": {},
   "outputs": [],
   "source": [
    "pre = p.Population(1, p.IF_curr_exp())\n",
    "post = p.Population(1, p.IF_curr_exp())\n",
    "pre.record(\"spikes\")\n",
    "post.record(\"spikes\")"
   ]
  },
  {
   "cell_type": "markdown",
   "metadata": {},
   "source": [
    "Create a Spike Pair rule with a tau_plus of 10.0 and a tau_minus of 1.0ms and an A_plus and A_minus of 0.5"
   ]
  },
  {
   "cell_type": "code",
   "execution_count": null,
   "metadata": {},
   "outputs": [],
   "source": [
    "timing = p.SpikePairRule(tau_plus=10.0, tau_minus=1.0, A_plus=0.5, A_minus=0.5)"
   ]
  },
  {
   "cell_type": "markdown",
   "metadata": {},
   "source": [
    "Create an Additive Weight Dependence with a minimum weight of 0 and a maximum of 5.0."
   ]
  },
  {
   "cell_type": "code",
   "execution_count": null,
   "metadata": {},
   "outputs": [],
   "source": [
    "weight = p.AdditiveWeightDependence(w_max=5.0, w_min=0.0)"
   ]
  },
  {
   "cell_type": "markdown",
   "metadata": {},
   "source": [
    "Create a Projection with a OneToOneConnector and an STDP Mechanism type using the rules above, with a initial weight of 0."
   ]
  },
  {
   "cell_type": "code",
   "execution_count": null,
   "metadata": {},
   "outputs": [],
   "source": [
    "proj = p.Projection(pre, post, p.OneToOneConnector(), p.STDPMechanism(timing_dependence=timing, weight_dependence=weight, weight=0.0, delay=5.0))"
   ]
  },
  {
   "cell_type": "markdown",
   "metadata": {},
   "source": [
    "Create a SpikeSourceArray population called \"pre_stim\" which will be used to stimulate the \"pre\" neurons.  Set this up to spike at the following times: [0, 10, 30, 40, 50, 60, 70, 80, 90, 110, 120].  Note the gaps in the times!  These will be used to show that the post-neuron is initially not connected to the pre-neuron (it has a weight of 0), but becomes connected after training."
   ]
  },
  {
   "cell_type": "code",
   "execution_count": null,
   "metadata": {},
   "outputs": [],
   "source": [
    "pre_stim = p.Population(1, p.SpikeSourceArray([0, 10, 30, 40, 50, 60, 70, 80, 90, 110, 120]))"
   ]
  },
  {
   "cell_type": "markdown",
   "metadata": {},
   "source": [
    "Create a SpikeSourceArray population called \"post_stim\" which will be used to stimulate the \"post\" neurons.  Set this up to spike 2 seconds after the neurons in pre_stim, but only for the times between 30 and 90 (remember, the other times are to test the results)."
   ]
  },
  {
   "cell_type": "code",
   "execution_count": null,
   "metadata": {},
   "outputs": [],
   "source": [
    "post_stim = p.Population(1, p.SpikeSourceArray([32, 42, 52, 62, 72, 82, 92]))"
   ]
  },
  {
   "cell_type": "markdown",
   "metadata": {},
   "source": [
    "Add static projections from \"pre_stim\" to \"pre\" and \"post_stim\" to \"post\".  Note that a weight of 5.0 should be enough to force an IF_curr_exp neuron to fire with the default parameters."
   ]
  },
  {
   "cell_type": "code",
   "execution_count": null,
   "metadata": {},
   "outputs": [],
   "source": [
    "p.Projection(pre_stim, pre, p.OneToOneConnector(), p.StaticSynapse(weight=5.0))\n",
    "p.Projection(post_stim, post, p.OneToOneConnector(), p.StaticSynapse(weight=5.0))"
   ]
  },
  {
   "cell_type": "markdown",
   "metadata": {},
   "source": [
    "Run the network for 150ms."
   ]
  },
  {
   "cell_type": "code",
   "execution_count": null,
   "metadata": {},
   "outputs": [],
   "source": [
    "p.run(150)"
   ]
  },
  {
   "cell_type": "markdown",
   "metadata": {},
   "source": [
    "Extract and plot the spike times."
   ]
  },
  {
   "cell_type": "code",
   "execution_count": null,
   "metadata": {},
   "outputs": [],
   "source": [
    "pre_spikes = pre.get_data(\"spikes\")\n",
    "post_spikes = post.get_data(\"spikes\")"
   ]
  },
  {
   "cell_type": "code",
   "execution_count": null,
   "metadata": {},
   "outputs": [],
   "source": [
    "from pyNN.utility.plotting import Figure, Panel\n",
    "Figure(Panel(pre_spikes.segments[0].spiketrains),\n",
    "       Panel(post_spikes.segments[0].spiketrains))"
   ]
  },
  {
   "cell_type": "markdown",
   "metadata": {},
   "source": [
    "Extract and print the weights of the STDP projection."
   ]
  },
  {
   "cell_type": "code",
   "execution_count": null,
   "metadata": {},
   "outputs": [],
   "source": [
    "weights = proj.get([\"weight\"], \"list\")\n",
    "p.end()\n",
    "print(weights)"
   ]
  },
  {
   "cell_type": "markdown",
   "metadata": {},
   "source": [
    "You should be able to see that the weights have changed from the starting values, and that by the end of\n",
    "the simulation, the second neuron should spike shortly after the first neuron.\n",
    "\n",
    "## Extension\n",
    "Alter the parameters of the STDP connection, and the relative timing of the spikes. \n",
    "\n",
    "## Extension 2\n",
    "Try starting with a large initial weight and see if you can get the weight to reduce using the relative timing of the spikes.  You may need to adjust the tau_minus and tau_plus parameters in the above to avoid unwanted effects."
   ]
  },
  {
   "cell_type": "code",
   "execution_count": null,
   "metadata": {},
   "outputs": [],
   "source": []
  }
 ],
 "metadata": {
 },
 "nbformat": 4,
 "nbformat_minor": 2
}
