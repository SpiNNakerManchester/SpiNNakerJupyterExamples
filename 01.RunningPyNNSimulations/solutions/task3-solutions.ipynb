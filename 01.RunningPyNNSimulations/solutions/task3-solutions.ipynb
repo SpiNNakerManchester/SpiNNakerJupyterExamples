{
 "cells": [
  {
   "cell_type": "markdown",
   "metadata": {},
   "source": [
    "# Balanced Random Cortex-like Network (Hard)\n",
    "This task will create a network that this similar to part of the Cortex in the brain. This will take some input\n",
    "from outside of the network, representing other surrounding neurons in the form of poisson spike sources.\n",
    "These will then feed into an excitatory and an inhibitory network set up in a balanced random network. This\n",
    "will use distributions of weights and delays as would occur in the brain.\n",
    "\n",
    "Create a variable containing the number of neurons to be simulated in the network."
   ]
  },
  {
   "cell_type": "code",
   "execution_count": null,
   "metadata": {},
   "outputs": [],
   "source": [
    "n_neurons = 100"
   ]
  },
  {
   "cell_type": "markdown",
   "metadata": {},
   "source": [
    "Set up the simulation to use 0.1ms timesteps."
   ]
  },
  {
   "cell_type": "code",
   "execution_count": null,
   "metadata": {},
   "outputs": [],
   "source": [
    "import pyNN.spiNNaker as p\n",
    "p.setup(0.1)"
   ]
  },
  {
   "cell_type": "markdown",
   "metadata": {},
   "source": [
    "Create an excitatory population with 80% of the neurons and an inhibitory population with 20% of\n",
    "the neurons (hint: the number of neurons needs to be an integer)."
   ]
  },
  {
   "cell_type": "code",
   "execution_count": null,
   "metadata": {},
   "outputs": [],
   "source": [
    "exc = p.Population(int(n_neurons * 0.8), p.IF_curr_exp())\n",
    "inh = p.Population(int(n_neurons * 0.2), p.IF_curr_exp())"
   ]
  },
  {
   "cell_type": "markdown",
   "metadata": {},
   "source": [
    "Create excitatory poisson stimulation population with 80% of the neurons and an inhibitory poisson\n",
    "stimulation population with 20% of the neurons, both with a rate of 1000Hz.\n"
   ]
  },
  {
   "cell_type": "code",
   "execution_count": null,
   "metadata": {},
   "outputs": [],
   "source": [
    "exc_poisson = p.Population(int(n_neurons * 0.8), p.SpikeSourcePoisson(rate=1000.0))\n",
    "inh_poisson = p.Population(int(n_neurons * 0.2), p.SpikeSourcePoisson(rate=1000.0))"
   ]
  },
  {
   "cell_type": "markdown",
   "metadata": {},
   "source": [
    "Create a one-to-one excitatory connection from the excitatory poisson stimulation population to the\n",
    "excitatory population with a weight of 0.11nA and a delay of 1.0ms."
   ]
  },
  {
   "cell_type": "code",
   "execution_count": null,
   "metadata": {},
   "outputs": [],
   "source": [
    "p.Projection(exc_poisson, exc, p.OneToOneConnector(), p.StaticSynapse(weight=0.11, delay=1.0), receptor_type=\"excitatory\")"
   ]
  },
  {
   "cell_type": "markdown",
   "metadata": {},
   "source": [
    "Create a similar excitatory connection from the inhibitory poisson stimulation population to the\n",
    "inhibitory population."
   ]
  },
  {
   "cell_type": "code",
   "execution_count": null,
   "metadata": {},
   "outputs": [],
   "source": [
    "p.Projection(inh_poisson, inh, p.OneToOneConnector(), p.StaticSynapse(weight=0.11, delay=1.0), receptor_type=\"excitatory\")"
   ]
  },
  {
   "cell_type": "markdown",
   "metadata": {},
   "source": [
    "Create two excitatory connections from the excitatory population to itself and to the inhibitory population. Use:\n",
    " - a fixed probability of connection of 0.1\n",
    " - a normal distribution of weights with a mean of 0.1 and a standard deviation of 0.1 (remember to add a boundary to make the weights positive)\n",
    " - a normal distribution of delays with a mean of 1.5 and standard deviation of 0.75 (remember to add aboundary to keep the delays within the allowed range of 0.1ms and 14.4ms on SpiNNaker)."
   ]
  },
  {
   "cell_type": "code",
   "execution_count": null,
   "metadata": {},
   "outputs": [],
   "source": [
    "import numpy\n",
    "exc_weights = p.RandomDistribution(\"normal_clipped\", mu=0.1, sigma=0.1, low=0, high=numpy.inf)\n",
    "exc_delays = p.RandomDistribution(\"normal_clipped\", mu=1.5, sigma=0.75, low=0.1, high=14.4)\n",
    "p.Projection(exc, exc, p.FixedProbabilityConnector(0.1), p.StaticSynapse(weight=exc_weights, delay=exc_delays), receptor_type=\"excitatory\")\n",
    "p.Projection(exc, inh, p.FixedProbabilityConnector(0.1), p.StaticSynapse(weight=exc_weights, delay=exc_delays), receptor_type=\"excitatory\")"
   ]
  },
  {
   "cell_type": "markdown",
   "metadata": {},
   "source": [
    "Create two similar connections between the inhibitory population and itself and the excitatory population, but make these \"inhibitory\" and make the weights four times as big."
   ]
  },
  {
   "cell_type": "code",
   "execution_count": null,
   "metadata": {},
   "outputs": [],
   "source": [
    "inh_weights = p.RandomDistribution(\"normal_clipped\", mu=0.4, sigma=0.1, low=0, high=numpy.inf)\n",
    "inh_delays = p.RandomDistribution(\"normal_clipped\", mu=1.5, sigma=0.75, low=0.1, high=14.4)\n",
    "p.Projection(inh, inh, p.FixedProbabilityConnector(0.1), p.StaticSynapse(weight=inh_weights, delay=inh_delays), receptor_type=\"inhibitory\")\n",
    "p.Projection(inh, exc, p.FixedProbabilityConnector(0.1), p.StaticSynapse(weight=inh_weights, delay=inh_delays), receptor_type=\"inhibitory\")"
   ]
  },
  {
   "cell_type": "markdown",
   "metadata": {},
   "source": [
    "Initialize the membrane voltages of the excitatory and inhibitory populations to a uniform random\n",
    "number between -65.0 and -55.0."
   ]
  },
  {
   "cell_type": "code",
   "execution_count": null,
   "metadata": {},
   "outputs": [],
   "source": [
    "exc.initialize(v=p.RandomDistribution(\"uniform\", low=-65.0, high=-55.0))\n",
    "inh.initialize(v=p.RandomDistribution(\"uniform\", low=-65.0, high=-55.0))"
   ]
  },
  {
   "cell_type": "markdown",
   "metadata": {},
   "source": [
    "Record the spikes from the excitatory population."
   ]
  },
  {
   "cell_type": "code",
   "execution_count": null,
   "metadata": {},
   "outputs": [],
   "source": [
    "exc.record([\"spikes\", \"v\"])"
   ]
  },
  {
   "cell_type": "markdown",
   "metadata": {},
   "source": [
    "Run the simulation for 1 second."
   ]
  },
  {
   "cell_type": "code",
   "execution_count": null,
   "metadata": {},
   "outputs": [],
   "source": [
    "p.run(1000)"
   ]
  },
  {
   "cell_type": "markdown",
   "metadata": {},
   "source": [
    "Retrieve and plot the spikes.  Ensure that you end the simulation!"
   ]
  },
  {
   "cell_type": "code",
   "execution_count": null,
   "metadata": {},
   "outputs": [],
   "source": [
    "spikes = exc.get_data(\"spikes\")\n",
    "p.end()"
   ]
  },
  {
   "cell_type": "code",
   "execution_count": null,
   "metadata": {},
   "outputs": [],
   "source": [
    "from pyNN.utility.plotting import Figure, Panel\n",
    "Figure(Panel(spikes.segments[0].spiketrains))"
   ]
  },
  {
   "cell_type": "markdown",
   "metadata": {},
   "source": [
    "The graph should show what is known as Asynchronous Irregular spiking activity - this means that the\n",
    "neurons in the population don’t spike very often and when they do, it is not at the same time as other\n",
    "neurons in the population.\n",
    "\n",
    "## Extension\n",
    "\n",
    "Try adding an additional Population of 100 neurons that stimulates the excitatory population with 50Hz noise using an all-to-all connector, and a weight of 0.01nA.  See what other behaviour you can get by trying to alter the rate of this new Population."
   ]
  },
  {
   "cell_type": "code",
   "execution_count": null,
   "metadata": {},
   "outputs": [],
   "source": []
  }
 ],
 "metadata": {
  "kernelspec": {
   "display_name": "EBRAINS-experimental",
   "language": "python",
   "name": "ebrains-experimental"
  },
  "title": "Task 1.3 Solutions",
 },
 "nbformat": 4,
 "nbformat_minor": 2
}
