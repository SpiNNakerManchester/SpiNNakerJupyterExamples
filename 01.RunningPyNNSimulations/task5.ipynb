{
 "cells": [
  {
   "cell_type": "markdown",
   "metadata": {},
   "source": [
    "# STDP Curve (Hard)\n",
    "This task will attempt to plot an STDP curve, showing how the weight change varies with timing between\n",
    "spikes.\n",
    "\n",
    "Set up the simulation to use a 1ms time step."
   ]
  },
  {
   "cell_type": "code",
   "execution_count": null,
   "metadata": {},
   "outputs": [],
   "source": []
  },
  {
   "cell_type": "markdown",
   "metadata": {},
   "source": [
    "Create a population of 100 presynaptic neurons."
   ]
  },
  {
   "cell_type": "code",
   "execution_count": null,
   "metadata": {},
   "outputs": [],
   "source": []
  },
  {
   "cell_type": "markdown",
   "metadata": {},
   "source": [
    "Create a spike source array population of 100 sources connected to the presynaptic population. Set\n",
    "the spikes in the arrays so that each spikes twice 200ms apart, and that the first spike for each is\n",
    "1ms after the first spike of the last e.g. [[0, 200], [1, 201], …] (hint: you can do this with a list\n",
    "comprehension).  Note the second spike is to make sure that the STDP computations take place with the deferred execution model."
   ]
  },
  {
   "cell_type": "code",
   "execution_count": null,
   "metadata": {},
   "outputs": [],
   "source": []
  },
  {
   "cell_type": "markdown",
   "metadata": {},
   "source": [
    "Create a population of 100 postsynaptic neurons."
   ]
  },
  {
   "cell_type": "code",
   "execution_count": null,
   "metadata": {},
   "outputs": [],
   "source": []
  },
  {
   "cell_type": "markdown",
   "metadata": {},
   "source": [
    "Create a spike source array connected to the postsynaptic neurons all spiking at 50ms."
   ]
  },
  {
   "cell_type": "code",
   "execution_count": null,
   "metadata": {},
   "outputs": [],
   "source": []
  },
  {
   "cell_type": "markdown",
   "metadata": {},
   "source": [
    "Record the spikes from the presynaptic and postsynaptic populations."
   ]
  },
  {
   "cell_type": "code",
   "execution_count": null,
   "metadata": {},
   "outputs": [],
   "source": []
  },
  {
   "cell_type": "markdown",
   "metadata": {},
   "source": [
    "Connect the presynaptic population to the postsynaptic population with an STDP projection with an\n",
    "initial weight of 0.5 and a maximum of 1 and minimum of 0, and a tau_plus and tau_minus of 20.0 and an A_plus and A_minus of 0.1"
   ]
  },
  {
   "cell_type": "code",
   "execution_count": null,
   "metadata": {},
   "outputs": [],
   "source": []
  },
  {
   "cell_type": "markdown",
   "metadata": {},
   "source": [
    "Run the simulation for 500ms."
   ]
  },
  {
   "cell_type": "code",
   "execution_count": null,
   "metadata": {},
   "outputs": [],
   "source": []
  },
  {
   "cell_type": "markdown",
   "metadata": {},
   "source": [
    "Get the weights and the presynaptic and postsynaptic spikes."
   ]
  },
  {
   "cell_type": "code",
   "execution_count": null,
   "metadata": {},
   "outputs": [],
   "source": []
  },
  {
   "cell_type": "markdown",
   "metadata": {},
   "source": [
    "Draw a graph of the weight changes from the initial weight value against the difference in\n",
    "presynaptic and postsynaptic neurons (hint: the presynaptic neurons should spike twice but the\n",
    "postsynaptic should only spike once; you are looking for the first spike from each presynaptic\n",
    "neuron)."
   ]
  },
  {
   "cell_type": "code",
   "execution_count": null,
   "metadata": {},
   "outputs": [],
   "source": []
  }
 ],
 "metadata": {
  "kernelspec": {
   "display_name": "EBRAINS-experimental",
   "language": "python",
   "name": "ebrains-experimental"
  },
  "title": "Task 1.5"
 },
 "nbformat": 4,
 "nbformat_minor": 2
}
