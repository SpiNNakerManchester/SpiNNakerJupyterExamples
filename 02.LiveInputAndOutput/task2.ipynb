{
 "cells": [
  {
   "cell_type": "markdown",
   "metadata": {},
   "source": [
    "# Receive Data (Easy)\n",
    "This task will create a simple network where the spikes are received from the simulation during the execution.\n",
    "\n",
    "Set up a function to receive spikes, accepting a label, a time and an array of neuron ids.  Print out the information received."
   ]
  },
  {
   "cell_type": "code",
   "execution_count": null,
   "metadata": {},
   "outputs": [],
   "source": []
  },
  {
   "cell_type": "markdown",
   "metadata": {},
   "source": [
    "Set up a ```SpynnakerLiveSpikesConnection``` with a receive label of ```pop``` and local port of None."
   ]
  },
  {
   "cell_type": "code",
   "execution_count": null,
   "metadata": {},
   "outputs": [],
   "source": []
  },
  {
   "cell_type": "markdown",
   "metadata": {},
   "source": [
    "Register the function created previously to be called for the label ```pop``` when a spike is received."
   ]
  },
  {
   "cell_type": "code",
   "execution_count": null,
   "metadata": {},
   "outputs": [],
   "source": []
  },
  {
   "cell_type": "markdown",
   "metadata": {},
   "source": [
    "Setup the simulation with a timestep of 1.0ms."
   ]
  },
  {
   "cell_type": "code",
   "execution_count": null,
   "metadata": {},
   "outputs": [],
   "source": []
  },
  {
   "cell_type": "markdown",
   "metadata": {},
   "source": [
    "Create a Population of 100 Poisson neurons at 50Hz and another of 100 LIF neurons, the latter with label ```pop```.  Neither need to be recorded."
   ]
  },
  {
   "cell_type": "code",
   "execution_count": null,
   "metadata": {},
   "outputs": [],
   "source": []
  },
  {
   "cell_type": "markdown",
   "metadata": {},
   "source": [
    "Connect the Poisson neurons to the LIF neurons with a fixed probability of 0.1, a weight of 0.5nA and a delay of 1ms."
   ]
  },
  {
   "cell_type": "code",
   "execution_count": null,
   "metadata": {},
   "outputs": [],
   "source": []
  },
  {
   "cell_type": "markdown",
   "metadata": {},
   "source": [
    "Activate live spike output for the LIF neurons.  Remember to register the connection port."
   ]
  },
  {
   "cell_type": "code",
   "execution_count": null,
   "metadata": {},
   "outputs": [],
   "source": []
  },
  {
   "cell_type": "markdown",
   "metadata": {},
   "source": [
    "Run for 1000ms and then end the simulation.  Look out for the print from the receive function."
   ]
  },
  {
   "cell_type": "code",
   "execution_count": null,
   "metadata": {},
   "outputs": [],
   "source": []
  },
  {
   "cell_type": "markdown",
   "metadata": {},
   "source": [
    "## Extension 1 (Hard)\n",
    "Try to plot the spikes as they are received; reduce the rate of the Poisson source to 10Hz.  You can use ```%matplotlib notebook``` to ensure matplotlib is in the correct mode for live drawing.  You may need to only redraw the canvas once every 100 timesteps to work in the notebook."
   ]
  },
  {
   "cell_type": "code",
   "execution_count": null,
   "metadata": {},
   "outputs": [],
   "source": []
  }
 ],
 "metadata": {
  "kernelspec": {
   "display_name": "EBRAINS-experimental",
   "language": "python",
   "name": "ebrains-experimental"
  },
  "title": "Task 2.2"
 },
 "nbformat": 4,
 "nbformat_minor": 2
}
