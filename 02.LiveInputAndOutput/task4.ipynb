{
 "cells": [
  {
   "cell_type": "markdown",
   "metadata": {},
   "source": [
    "# Live Voltage Output (Moderate)\n",
    "This example will create a model where neuron voltage is output from the network.\n",
    "\n",
    "Create a device that extends ```spynnaker.pyNN.external_devices_models.AbstractMulticastControllableDevice```, and adds all the required properties therein (```device_control_partition_id```, ```device_control_key```, ```device_control_uses_payload```, ```device_control_min_value```, ```device_control_max_value```, ```device_control_timesteps_between_sending```, ```device_control_send_type``` and ```device_control_scaling_factor```).  This should have an acceptable voltage range of -50 to 50 and send the value as an integer every 5 timesteps of the simulation, and should use a key of 10."
   ]
  },
  {
   "cell_type": "code",
   "execution_count": null,
   "metadata": {},
   "outputs": [],
   "source": []
  },
  {
   "cell_type": "markdown",
   "metadata": {},
   "source": [
    "Create a translator that extends ```spynnaker.pyNN.external_devices_models.AbstractEthernetTranslator```, and implement the ```translate_control_packet``` method.  This accepts a packet, which has the properties ```key``` and ```payload```.  Print the received key, and the voltage value from the payload."
   ]
  },
  {
   "cell_type": "code",
   "execution_count": null,
   "metadata": {},
   "outputs": [],
   "source": []
  },
  {
   "cell_type": "markdown",
   "metadata": {},
   "source": [
    "Setup the simulation to run at 1ms timesteps."
   ]
  },
  {
   "cell_type": "code",
   "execution_count": null,
   "metadata": {},
   "outputs": [],
   "source": []
  },
  {
   "cell_type": "markdown",
   "metadata": {},
   "source": [
    "Set up a Population of 100 Poisson neurons spiking at a rate of 10Hz."
   ]
  },
  {
   "cell_type": "code",
   "execution_count": null,
   "metadata": {},
   "outputs": [],
   "source": []
  },
  {
   "cell_type": "markdown",
   "metadata": {},
   "source": [
    "Set up an External Control Population with 1 neuron using the device and translator created above."
   ]
  },
  {
   "cell_type": "code",
   "execution_count": null,
   "metadata": {},
   "outputs": [],
   "source": []
  },
  {
   "cell_type": "markdown",
   "metadata": {},
   "source": [
    "Connect every neuron in the Poisson source to the control population with a weight of 0.1nA and a delay of 1ms. "
   ]
  },
  {
   "cell_type": "code",
   "execution_count": null,
   "metadata": {},
   "outputs": [],
   "source": []
  },
  {
   "cell_type": "markdown",
   "metadata": {},
   "source": [
    "Run the simulation for 1000ms, and then end the simulation.  Watch to see the messages produced."
   ]
  },
  {
   "cell_type": "code",
   "execution_count": null,
   "metadata": {},
   "outputs": [],
   "source": []
  },
  {
   "cell_type": "markdown",
   "metadata": {},
   "source": [
    "# Extension 1 (Hard)\n",
    "Add a live Poisson rate control.  Try to stablise the membrane voltage at 25Hz by altering the rate of the Poisson source based on the live voltage output."
   ]
  },
  {
   "cell_type": "code",
   "execution_count": null,
   "metadata": {},
   "outputs": [],
   "source": []
  }
 ],
 "metadata": {
  "kernelspec": {
   "display_name": "EBRAINS-experimental",
   "language": "python",
   "name": "ebrains-experimental"
  },
  "title": "Task 2.4"
 },
 "nbformat": 4,
 "nbformat_minor": 2
}
