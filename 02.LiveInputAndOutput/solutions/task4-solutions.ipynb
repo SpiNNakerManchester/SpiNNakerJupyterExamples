{
 "cells": [
  {
   "cell_type": "markdown",
   "metadata": {},
   "source": [
    "# Live Voltage Output (Moderate)\n",
    "This example will create a model where neuron voltage is output from the network.\n",
    "\n",
    "Create a device that extends ```spynnaker.pyNN.external_devices_models.AbstractMulticastControllableDevice```, and adds all the required properties therein (```device_control_partition_id```, ```device_control_key```, ```device_control_uses_payload```, ```device_control_min_value```, ```device_control_max_value```, ```device_control_timesteps_between_sending```, ```device_control_send_type``` and ```device_control_scaling_factor```).  This should have an acceptable voltage range of -50 to 50 and send the value as an integer every 5 timesteps of the simulation, and should use a key of 10."
   ]
  },
  {
   "cell_type": "code",
   "execution_count": null,
   "metadata": {},
   "outputs": [],
   "source": [
    "from spynnaker.pyNN.external_devices_models import AbstractMulticastControllableDevice\n",
    "from spynnaker.pyNN.external_devices_models.abstract_multicast_controllable_device import SendType\n",
    "\n",
    "class TestDevice(AbstractMulticastControllableDevice):\n",
    "    \n",
    "    @property\n",
    "    def device_control_partition_id(self):\n",
    "        return \"Test\"\n",
    "    \n",
    "    @property\n",
    "    def device_control_key(self):\n",
    "        return 0\n",
    "    \n",
    "    @property\n",
    "    def device_control_uses_payload(self):\n",
    "        return True\n",
    "    \n",
    "    @property\n",
    "    def device_control_min_value(self):\n",
    "        return -50\n",
    "    \n",
    "    @property\n",
    "    def device_control_max_value(self):\n",
    "        return 50\n",
    "    \n",
    "    @property\n",
    "    def device_control_timesteps_between_sending(self):\n",
    "        return 5\n",
    "    \n",
    "    @property\n",
    "    def device_control_send_type(self):\n",
    "        # The type of the value - one of the SendType values\n",
    "        return SendType.SEND_TYPE_UINT\n",
    "    \n",
    "    @property\n",
    "    def device_control_scaling_factor(self):\n",
    "        # The amount to multiply the voltage by before transmission\n",
    "        return 1.0"
   ]
  },
  {
   "cell_type": "markdown",
   "metadata": {},
   "source": [
    "Create a translator that extends ```spynnaker.pyNN.external_devices_models.AbstractEthernetTranslator```, and implement the ```translate_control_packet``` method.  This accepts a packet, which has the properties ```key``` and ```payload```.  Print the received key, and the voltage value from the payload."
   ]
  },
  {
   "cell_type": "code",
   "execution_count": null,
   "metadata": {},
   "outputs": [],
   "source": [
    "from spynnaker.pyNN.external_devices_models import AbstractEthernetTranslator\n",
    "\n",
    "class Translator(AbstractEthernetTranslator):\n",
    "    \n",
    "    def translate_control_packet(self, packet):\n",
    "        print(\"Received Key {}: Voltage {}\".format(packet.key, packet.payload))"
   ]
  },
  {
   "cell_type": "markdown",
   "metadata": {},
   "source": [
    "Setup the simulation to run at 1ms timesteps."
   ]
  },
  {
   "cell_type": "code",
   "execution_count": null,
   "metadata": {},
   "outputs": [],
   "source": [
    "import spynnaker.pyNN as sim\n",
    "\n",
    "sim.setup(1.0)"
   ]
  },
  {
   "cell_type": "markdown",
   "metadata": {},
   "source": [
    "Set up a Population of 100 Poisson neurons spiking at a rate of 10Hz."
   ]
  },
  {
   "cell_type": "code",
   "execution_count": null,
   "metadata": {},
   "outputs": [],
   "source": [
    "source = sim.Population(100, sim.SpikeSourcePoisson(rate=10), label=\"source\")"
   ]
  },
  {
   "cell_type": "markdown",
   "metadata": {},
   "source": [
    "Set up an External Control Population with 1 neuron using the device and translator created above."
   ]
  },
  {
   "cell_type": "code",
   "execution_count": null,
   "metadata": {},
   "outputs": [],
   "source": [
    "pop = sim.external_devices.EthernetControlPopulation(\n",
    "    n_neurons=1,\n",
    "    model=sim.external_devices.ExternalDeviceLifControl(\n",
    "        devices=[TestDevice()],\n",
    "        create_edges=False,\n",
    "        translator=Translator()))"
   ]
  },
  {
   "cell_type": "markdown",
   "metadata": {},
   "source": [
    "Connect every neuron in the Poisson source to the control population with a weight of 0.1nA and a delay of 1ms. "
   ]
  },
  {
   "cell_type": "code",
   "execution_count": null,
   "metadata": {},
   "outputs": [],
   "source": [
    "sim.Projection(source, pop, sim.AllToAllConnector(), sim.StaticSynapse(weight=0.1, delay=1))"
   ]
  },
  {
   "cell_type": "markdown",
   "metadata": {},
   "source": [
    "Run the simulation for 1000ms, and then end the simulation.  Watch to see the messages produced."
   ]
  },
  {
   "cell_type": "code",
   "execution_count": null,
   "metadata": {},
   "outputs": [],
   "source": [
    "sim.run(1000)\n",
    "sim.end()"
   ]
  },
  {
   "cell_type": "markdown",
   "metadata": {},
   "source": [
    "# Extension 1\n",
    "Add a live Poisson rate control.  Try to stablise the membrane voltage at 25Hz by altering the rate of the Poisson source based on the live voltage output."
   ]
  },
  {
   "cell_type": "code",
   "execution_count": null,
   "metadata": {},
   "outputs": [],
   "source": [
    "from spynnaker.pyNN.external_devices_models import AbstractMulticastControllableDevice\n",
    "from spynnaker.pyNN.external_devices_models.abstract_multicast_controllable_device import SendType\n",
    "\n",
    "\n",
    "class TestDevice(AbstractMulticastControllableDevice):\n",
    "\n",
    "    @property\n",
    "    def device_control_partition_id(self):\n",
    "        return \"Test\"\n",
    "\n",
    "    @property\n",
    "    def device_control_key(self):\n",
    "        return 0\n",
    "\n",
    "    @property\n",
    "    def device_control_uses_payload(self):\n",
    "        return True\n",
    "\n",
    "    @property\n",
    "    def device_control_min_value(self):\n",
    "        return -50\n",
    "\n",
    "    @property\n",
    "    def device_control_max_value(self):\n",
    "        return 50\n",
    "\n",
    "    @property\n",
    "    def device_control_timesteps_between_sending(self):\n",
    "        return 5\n",
    "\n",
    "    @property\n",
    "    def device_control_send_type(self):\n",
    "        # The type of the value - one of the SendType values\n",
    "        return SendType.SEND_TYPE_UINT\n",
    "\n",
    "    @property\n",
    "    def device_control_scaling_factor(self):\n",
    "        # The amount to multiply the voltage by before transmission\n",
    "        return 1.0\n",
    "\n",
    "from spynnaker.pyNN.external_devices_models import AbstractEthernetTranslator\n",
    "\n",
    "class Translator(AbstractEthernetTranslator):\n",
    "\n",
    "    def __init__(self, connection):\n",
    "        self._connection = connection\n",
    "        self._rate = 10\n",
    "        self._average_voltage = 0\n",
    "\n",
    "    def translate_control_packet(self, packet):\n",
    "        print(\"Received Key {}: Voltage {}\".format(packet.key, packet.payload))\n",
    "        self._average_voltage = ((self._average_voltage * 9) + packet.payload) / 10\n",
    "        diff = (self._average_voltage - 25) / 50\n",
    "        new_rate = self._rate - diff\n",
    "        if new_rate < 0:\n",
    "            new_rate = 0\n",
    "        if new_rate != self._rate:\n",
    "            print(\"Setting rate to {}\".format(new_rate))\n",
    "            self._rate = new_rate\n",
    "            self._connection.set_rates(\"source\", [(i, new_rate) for i in range(100)])\n",
    "\n",
    "import spynnaker.pyNN as sim\n",
    "\n",
    "connection = sim.external_devices.SpynnakerPoissonControlConnection(local_port=None, poisson_labels=[\"source\"])\n",
    "\n",
    "sim.setup(1.0)\n",
    "\n",
    "source = sim.Population(100, sim.SpikeSourcePoisson(rate=10), label=\"source\")\n",
    "pop = sim.external_devices.EthernetControlPopulation(\n",
    "    n_neurons=1,\n",
    "    model=sim.external_devices.ExternalDeviceLifControl(\n",
    "        devices=[TestDevice()],\n",
    "        create_edges=False,\n",
    "        translator=Translator(connection)))\n",
    "\n",
    "sim.Projection(source, pop, sim.AllToAllConnector(), sim.StaticSynapse(weight=0.1, delay=1))\n",
    "\n",
    "sim.external_devices.add_poisson_live_rate_control(source, database_notify_port_num=connection.local_port)\n",
    "\n",
    "sim.run(1000)\n",
    "sim.end()"
   ]
  },
  {
   "cell_type": "code",
   "execution_count": null,
   "metadata": {},
   "outputs": [],
   "source": []
  }
 ],
 "metadata": {
  "kernelspec": {
   "display_name": "",
   "name": ""
  },
  "language_info": {
   "name": ""
  }
 },
 "nbformat": 4,
 "nbformat_minor": 4
}
