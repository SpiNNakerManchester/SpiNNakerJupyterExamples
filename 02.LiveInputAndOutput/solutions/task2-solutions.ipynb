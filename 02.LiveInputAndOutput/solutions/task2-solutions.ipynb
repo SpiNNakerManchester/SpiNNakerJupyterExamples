{
 "cells": [
  {
   "cell_type": "markdown",
   "metadata": {},
   "source": [
    "# Receive Data (Easy)\n",
    "This task will create a simple network where the spikes are received from the simulation during the execution.\n",
    "\n",
    "Set up a function to receive spikes, accepting a label, a time and an array of neuron ids.  Print out the information received."
   ]
  },
  {
   "cell_type": "code",
   "execution_count": null,
   "metadata": {},
   "outputs": [],
   "source": [
    "def recv_spikes(label, time, neuron_ids):\n",
    "    print(\"Received spikes from {} at time {} from neurons {}\".format(label, time, neuron_ids))"
   ]
  },
  {
   "cell_type": "markdown",
   "metadata": {},
   "source": [
    "Set up a ```SpynnakerLiveSpikesConnection``` with a receive label of ```pop``` and local port of None."
   ]
  },
  {
   "cell_type": "code",
   "execution_count": null,
   "metadata": {},
   "outputs": [],
   "source": [
    "import pyNN.spiNNaker as sim\n",
    "\n",
    "connection = sim.external_devices.SpynnakerLiveSpikesConnection(local_port=None, receive_labels=[\"pop\"])"
   ]
  },
  {
   "cell_type": "markdown",
   "metadata": {},
   "source": [
    "Register the function created previously to be called for the label ```pop``` when a spike is received."
   ]
  },
  {
   "cell_type": "code",
   "execution_count": null,
   "metadata": {},
   "outputs": [],
   "source": [
    "connection.add_receive_callback(\"pop\", recv_spikes)"
   ]
  },
  {
   "cell_type": "markdown",
   "metadata": {},
   "source": [
    "Setup the simulation with a timestep of 1.0ms."
   ]
  },
  {
   "cell_type": "code",
   "execution_count": null,
   "metadata": {},
   "outputs": [],
   "source": [
    "sim.setup(1.0)"
   ]
  },
  {
   "cell_type": "markdown",
   "metadata": {},
   "source": [
    "Create a Population of 100 Poisson neurons at 50Hz and another of 100 LIF neurons, the latter with label ```pop```.  Neither need to be recorded."
   ]
  },
  {
   "cell_type": "code",
   "execution_count": null,
   "metadata": {},
   "outputs": [],
   "source": [
    "source = sim.Population(100, sim.SpikeSourcePoisson(rate=50), label=\"source\")\n",
    "pop = sim.Population(100, sim.IF_curr_exp(), label=\"pop\")"
   ]
  },
  {
   "cell_type": "markdown",
   "metadata": {},
   "source": [
    "Connect the Poisson neurons to the LIF neurons with a fixed probability of 0.1, a weight of 0.5nA and a delay of 1ms."
   ]
  },
  {
   "cell_type": "code",
   "execution_count": null,
   "metadata": {},
   "outputs": [],
   "source": [
    "sim.Projection(source, pop, sim.FixedProbabilityConnector(0.1), sim.StaticSynapse(weight=0.5, delay=1))"
   ]
  },
  {
   "cell_type": "markdown",
   "metadata": {},
   "source": [
    "Activate live spike output for the LIF neurons.  Remember to register the connection port."
   ]
  },
  {
   "cell_type": "code",
   "execution_count": null,
   "metadata": {},
   "outputs": [],
   "source": [
    "sim.external_devices.activate_live_output_for(pop, database_notify_port_num=connection.local_port)"
   ]
  },
  {
   "cell_type": "markdown",
   "metadata": {},
   "source": [
    "Run for 1000ms and then end the simulation.  Look out for the print from the receive function."
   ]
  },
  {
   "cell_type": "code",
   "execution_count": null,
   "metadata": {},
   "outputs": [],
   "source": [
    "sim.run(1000)\n",
    "sim.end()"
   ]
  },
  {
   "cell_type": "markdown",
   "metadata": {},
   "source": [
    "## Extension 1 (Hard)\n",
    "Try to plot the spikes as they are received; reduce the rate of the Poisson source to 10Hz.  You can use ```%matplotlib notebook``` to ensure matplotlib is in the correct mode for live drawing.  You may need to only redraw the canvas once every 100 timesteps to work in the notebook."
   ]
  },
  {
   "cell_type": "code",
   "execution_count": null,
   "metadata": {},
   "outputs": [],
   "source": [
    "%matplotlib notebook\n",
    "import matplotlib.pyplot as plt\n",
    "from threading import RLock\n",
    "\n",
    "fig = plt.figure()\n",
    "ax = fig.add_subplot(111)\n",
    "plt.ion()\n",
    "ax.set_xlim((0, 1000))\n",
    "ax.set_ylim((0, 100))\n",
    "fig.show()\n",
    "fig.canvas.draw()\n",
    "last_draw = -1\n",
    "lock = RLock()\n",
    "\n",
    "\n",
    "def recv_spikes(label, time, neuron_ids):\n",
    "    global lock\n",
    "    lock.acquire()\n",
    "    print(\"Received spikes from {} at time {} from neurons {}\".format(label, time, neuron_ids))\n",
    "    global ax\n",
    "    global fig\n",
    "    global last_draw\n",
    "    ax.plot([time] * len(neuron_ids), neuron_ids, \"b.\", markersize=3)\n",
    "    if time // 100 > last_draw:\n",
    "        print(\"Redraw at time {}\".format(time))\n",
    "        fig.canvas.draw()\n",
    "        last_draw = time // 100\n",
    "    lock.release()\n"
   ]
  },
  {
   "cell_type": "code",
   "execution_count": null,
   "metadata": {},
   "outputs": [],
   "source": [
    "import pyNN.spiNNaker as sim\n",
    "\n",
    "connection = sim.external_devices.SpynnakerLiveSpikesConnection(local_port=None, receive_labels=[\"pop\"])\n",
    "connection.add_receive_callback(\"pop\", recv_spikes)\n",
    "\n",
    "sim.setup(1.0)\n",
    "source = sim.Population(100, sim.SpikeSourcePoisson(rate=20), label=\"source\")\n",
    "pop = sim.Population(100, sim.IF_curr_exp(), label=\"pop\")\n",
    "sim.Projection(source, pop, sim.FixedProbabilityConnector(0.1), sim.StaticSynapse(weight=0.5, delay=1))\n",
    "sim.external_devices.activate_live_output_for(pop, database_notify_port_num=connection.local_port)\n",
    "sim.run(1000)\n",
    "sim.end()"
   ]
  },
  {
   "cell_type": "code",
   "execution_count": null,
   "metadata": {},
   "outputs": [],
   "source": []
  }
 ],
 "metadata": {
  "kernelspec": {
   "display_name": "EBRAINS-experimental",
   "language": "python",
   "name": "ebrains-experimental"
  },
  "title": "Task 2.2 Solutions"
 },
 "nbformat": 4,
 "nbformat_minor": 2
}
