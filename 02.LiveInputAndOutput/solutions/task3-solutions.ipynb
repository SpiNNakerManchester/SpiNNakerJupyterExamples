{
 "cells": [
  {
   "cell_type": "markdown",
   "metadata": {},
   "source": [
    "# Rate Changes (Easy)\n",
    "This task will set up a simple network where the Poisson rates are updated during the simulation.\n",
    "\n",
    "Setup a function to be executed at start up, accepting a label and a connection. Using sleep, update the rates of 100 neurons in the Poisson source using the label and the connection at intervals of 0.2 seconds to progressive values of 5Hz, 10Hz, 20Hz and 40Hz."
   ]
  },
  {
   "cell_type": "code",
   "execution_count": null,
   "metadata": {},
   "outputs": [],
   "source": [
    "from time import sleep\n",
    "\n",
    "def update_rates(label, connection):\n",
    "    for rate in [5, 10, 20, 40]:\n",
    "        sleep(0.2)\n",
    "        connection.set_rates(label, [(i, rate) for i in range(100)])"
   ]
  },
  {
   "cell_type": "markdown",
   "metadata": {},
   "source": [
    "Set up a SpynnakerPoissonControlConnection with a poisson label of ```source``` and local port of None."
   ]
  },
  {
   "cell_type": "code",
   "execution_count": null,
   "metadata": {},
   "outputs": [],
   "source": [
    "import spyNNaker.pyNN as sim\n",
    "\n",
    "connection = sim.external_devices.SpynnakerPoissonControlConnection(poisson_labels=[\"source\"], local_port=None)"
   ]
  },
  {
   "cell_type": "markdown",
   "metadata": {},
   "source": [
    "Register the function created previously to be called for the label ```source``` when the simulation starts."
   ]
  },
  {
   "cell_type": "code",
   "execution_count": null,
   "metadata": {},
   "outputs": [],
   "source": [
    "connection.add_start_resume_callback(\"source\", update_rates)"
   ]
  },
  {
   "cell_type": "markdown",
   "metadata": {},
   "source": [
    "Setup the simulation with a timestep of 1.0ms."
   ]
  },
  {
   "cell_type": "code",
   "execution_count": null,
   "metadata": {},
   "outputs": [],
   "source": [
    "sim.setup(1.0)"
   ]
  },
  {
   "cell_type": "markdown",
   "metadata": {},
   "source": [
    "Create a Population of 100 Poisson neurons with an initial rate of 0Hz, but with the ability to have a rate of up to 40Hz.  Ensure this uses the label ```source```."
   ]
  },
  {
   "cell_type": "code",
   "execution_count": null,
   "metadata": {},
   "outputs": [],
   "source": [
    "source = sim.Population(100, sim.SpikeSourcePoisson(rate=0), additional_parameters={\"max_rate\": 40}, label=\"source\")"
   ]
  },
  {
   "cell_type": "markdown",
   "metadata": {},
   "source": [
    "Create a Population of 100 LIF neurons and record the spikes."
   ]
  },
  {
   "cell_type": "code",
   "execution_count": null,
   "metadata": {},
   "outputs": [],
   "source": [
    "pop = sim.Population(100, sim.IF_curr_exp(), label=\"pop\")\n",
    "pop.record(\"spikes\")"
   ]
  },
  {
   "cell_type": "markdown",
   "metadata": {},
   "source": [
    "Connect the LIF neurons to the Poisson neurons with a fixed probability of 0.5, a weight of 0.5nA and a delay of 1ms."
   ]
  },
  {
   "cell_type": "code",
   "execution_count": null,
   "metadata": {},
   "outputs": [],
   "source": [
    "sim.Projection(source, pop, sim.FixedProbabilityConnector(0.1), sim.StaticSynapse(weight=5, delay=1))"
   ]
  },
  {
   "cell_type": "markdown",
   "metadata": {},
   "source": [
    "Add live rate control to the Poisson sources.  Remember to register the connection."
   ]
  },
  {
   "cell_type": "code",
   "execution_count": null,
   "metadata": {},
   "outputs": [],
   "source": [
    "sim.external_devices.add_poisson_live_rate_control(source, database_notify_port_num=connection.local_port)"
   ]
  },
  {
   "cell_type": "markdown",
   "metadata": {},
   "source": [
    "Run the simulation for 1000ms, extract the spikes and end the simulation."
   ]
  },
  {
   "cell_type": "code",
   "execution_count": null,
   "metadata": {},
   "outputs": [],
   "source": [
    "sim.run(1000)\n",
    "spikes = pop.get_data(\"spikes\").segments[0].spiketrains\n",
    "sim.end()"
   ]
  },
  {
   "cell_type": "markdown",
   "metadata": {},
   "source": [
    "Plot the spikes."
   ]
  },
  {
   "cell_type": "code",
   "execution_count": null,
   "metadata": {},
   "outputs": [],
   "source": [
    "import pyNN.utility.plotting as plot\n",
    "\n",
    "plot.Figure(\n",
    "    plot.Panel(spikes, yticks=True, markersize=5, xlim=(0, 1000)),\n",
    "    title=\"Spikes\"\n",
    ")"
   ]
  },
  {
   "cell_type": "code",
   "execution_count": null,
   "metadata": {},
   "outputs": [],
   "source": []
  }
 ],
 "metadata": {
  "kernelspec": {
   "display_name": "EBRAINS-experimental",
   "language": "python",
   "name": "ebrains-experimental"
  },
  "title": "Task 2.3 Solutions"
 },
 "nbformat": 4,
 "nbformat_minor": 2
}
