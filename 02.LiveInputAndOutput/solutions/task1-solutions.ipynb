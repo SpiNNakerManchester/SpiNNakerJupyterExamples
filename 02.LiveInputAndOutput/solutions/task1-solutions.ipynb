{
 "cells": [
  {
   "cell_type": "markdown",
   "metadata": {},
   "source": [
    "# Send data (easy)\n",
    "This task will set up a simple network for sending data into a neural network simulation during execution.\n",
    "\n",
    "Setup a function to be executed at start up, accepting a label and a connection.  Using sleep, this should send a spike into the network approximately every 100ms for a total of 1000ms. "
   ]
  },
  {
   "cell_type": "code",
   "execution_count": null,
   "metadata": {},
   "outputs": [],
   "source": [
    "from time import sleep\n",
    "\n",
    "def send_spikes(label, connection):\n",
    "    for i in range(10):\n",
    "        sleep(0.1)\n",
    "        connection.send_spike(label, 0)"
   ]
  },
  {
   "cell_type": "markdown",
   "metadata": {},
   "source": [
    "Set up a ```SpynnakerLiveSpikesConnection``` with a send label of ```sender``` and local port of None."
   ]
  },
  {
   "cell_type": "code",
   "execution_count": null,
   "metadata": {},
   "outputs": [],
   "source": [
    "import spynnaker.pyNN as sim\n",
    "\n",
    "connection = sim.external_devices.SpynnakerLiveSpikesConnection(local_port=None, send_labels=[\"sender\"])"
   ]
  },
  {
   "cell_type": "markdown",
   "metadata": {},
   "source": [
    "Register the function created previously to be called for the label ```sender``` when the simulation starts."
   ]
  },
  {
   "cell_type": "code",
   "execution_count": null,
   "metadata": {},
   "outputs": [],
   "source": [
    "connection.add_start_resume_callback(\"sender\", send_spikes)"
   ]
  },
  {
   "cell_type": "markdown",
   "metadata": {},
   "source": [
    "Setup the simulation with a timestep of 1.0ms."
   ]
  },
  {
   "cell_type": "code",
   "execution_count": null,
   "metadata": {},
   "outputs": [],
   "source": [
    "sim.setup(1.0)"
   ]
  },
  {
   "cell_type": "markdown",
   "metadata": {},
   "source": [
    "Create a Population of 100 LIF neurons and record the spikes of the Population."
   ]
  },
  {
   "cell_type": "code",
   "execution_count": null,
   "metadata": {},
   "outputs": [],
   "source": [
    "pop = sim.Population(100, sim.IF_curr_exp(), label=\"pop\")\n",
    "pop.record(\"spikes\")"
   ]
  },
  {
   "cell_type": "markdown",
   "metadata": {},
   "source": [
    "Create a Population of 1 ```SpikeInjector``` with a label of ```sender```.  Remember to register the connection."
   ]
  },
  {
   "cell_type": "code",
   "execution_count": null,
   "metadata": {},
   "outputs": [],
   "source": [
    "sender = sim.Population(1, sim.external_devices.SpikeInjector(database_notify_port_num=connection.local_port), label=\"sender\")"
   ]
  },
  {
   "cell_type": "markdown",
   "metadata": {},
   "source": [
    "Connect the population to itself randomly with a fixed probability of 0.08, a weight of 0.5nA and a delay of 2ms."
   ]
  },
  {
   "cell_type": "code",
   "execution_count": null,
   "metadata": {},
   "outputs": [],
   "source": [
    "sim.Projection(pop, pop, sim.FixedProbabilityConnector(0.08), sim.StaticSynapse(weight=0.5, delay=2))"
   ]
  },
  {
   "cell_type": "markdown",
   "metadata": {},
   "source": [
    "Connect the sender to all of the neurons in the Population with a weight of 5nA and a delay of 1ms."
   ]
  },
  {
   "cell_type": "code",
   "execution_count": null,
   "metadata": {},
   "outputs": [],
   "source": [
    "sim.Projection(sender, pop, sim.AllToAllConnector(), sim.StaticSynapse(weight=5, delay=1))"
   ]
  },
  {
   "cell_type": "markdown",
   "metadata": {},
   "source": [
    "Run the simulation for 1000ms."
   ]
  },
  {
   "cell_type": "code",
   "execution_count": null,
   "metadata": {},
   "outputs": [],
   "source": [
    "sim.run(1000)"
   ]
  },
  {
   "cell_type": "markdown",
   "metadata": {},
   "source": [
    "Extract the spikes and end the simulation."
   ]
  },
  {
   "cell_type": "code",
   "execution_count": null,
   "metadata": {},
   "outputs": [],
   "source": [
    "spikes = pop.get_data(\"spikes\").segments[0].spiketrains\n",
    "sim.end()"
   ]
  },
  {
   "cell_type": "markdown",
   "metadata": {},
   "source": [
    "Plot the spikes."
   ]
  },
  {
   "cell_type": "code",
   "execution_count": null,
   "metadata": {},
   "outputs": [],
   "source": [
    "import pyNN.utility.plotting as plot\n",
    "\n",
    "plot.Figure(\n",
    "    plot.Panel(spikes, yticks=True, markersize=5, xlim=(0, 1000)),\n",
    "    title=\"Spikes\"\n",
    ")"
   ]
  },
  {
   "cell_type": "markdown",
   "metadata": {},
   "source": [
    "## Extension 1 (Moderate)\n",
    "Try having one ```SpikeInjector``` neuron for each of the Population neurons, changing the connector to a OneToOneConnector, and then send random spikes from the function."
   ]
  },
  {
   "cell_type": "code",
   "execution_count": null,
   "metadata": {},
   "outputs": [],
   "source": [
    "from time import sleep\n",
    "import random\n",
    "\n",
    "def send_spikes(label, connection):\n",
    "    for i in range(100):\n",
    "        sleep(0.01)\n",
    "        neuron_id = random.randint(0, 99)\n",
    "        connection.send_spike(label, neuron_id)\n",
    "        \n",
    "import spynnaker.pyNN as sim\n",
    "\n",
    "connection = sim.external_devices.SpynnakerLiveSpikesConnection(local_port=None, send_labels=[\"sender\"])\n",
    "connection.add_start_resume_callback(\"sender\", send_spikes)\n",
    "sim.setup(1.0)\n",
    "pop = sim.Population(100, sim.IF_curr_exp(), label=\"pop\")\n",
    "pop.record(\"spikes\")\n",
    "sender = sim.Population(100, sim.external_devices.SpikeInjector(database_notify_port_num=connection.local_port), label=\"sender\")\n",
    "sim.Projection(pop, pop, sim.FixedProbabilityConnector(0.08), sim.StaticSynapse(weight=0.5, delay=2))\n",
    "sim.Projection(sender, pop, sim.OneToOneConnector(), sim.StaticSynapse(weight=5, delay=1))\n",
    "sim.run(1000)\n",
    "spikes = pop.get_data(\"spikes\").segments[0].spiketrains\n",
    "sim.end()\n",
    "import pyNN.utility.plotting as plot\n",
    "\n",
    "plot.Figure(\n",
    "    plot.Panel(spikes, yticks=True, markersize=5, xlim=(0, 1000)),\n",
    "    title=\"Spikes\"\n",
    ")"
   ]
  },
  {
   "cell_type": "code",
   "execution_count": null,
   "metadata": {},
   "outputs": [],
   "source": []
  }
 ],
 "metadata": {
 },
 "nbformat": 4,
 "nbformat_minor": 2
}
