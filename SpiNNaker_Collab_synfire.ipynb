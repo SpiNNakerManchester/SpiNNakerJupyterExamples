{
 "cells": [
  {
   "cell_type": "code",
   "execution_count": null,
   "id": "c0a7e831-7def-46d1-87f9-1f1800fa01bf",
   "metadata": {
    "scrolled": true,
    "tags": []
   },
   "outputs": [],
   "source": [
    "# We have to use it this way until the next PyNN release\n",
    "import spynnaker.pyNN as pynn\n",
    "\n",
    "# Set up some constants\n",
    "n_neurons = 100\n",
    "n_populations = 10\n",
    "weights = 0.5\n",
    "delays = 17.0\n",
    "simtime = 1000\n",
    "\n",
    "# Set up pyNN with a timestep of 1.0ms\n",
    "pynn.setup(timestep=1.0)\n",
    "\n",
    "# Set up a Population to start the synfire chain\n",
    "stimulus = pynn.Population(1, pynn.SpikeSourceArray(spike_times=[0]), label='stimulus')\n",
    "\n",
    "# Set up the Synfire chain populations\n",
    "chain_pops = [\n",
    "    pynn.Population(n_neurons, pynn.IF_curr_exp(), label='chain_{}'.format(i))\n",
    "    for i in range(n_populations)\n",
    "]\n",
    "\n",
    "# Record the spikes in the Populations so we can see them at the end!\n",
    "for pop in chain_pops:\n",
    "    pop.record(\"spikes\")\n",
    "    \n",
    "# Connect them together\n",
    "connector = pynn.FixedNumberPreConnector(10)\n",
    "for i in range(n_populations):\n",
    "    pynn.Projection(\n",
    "        chain_pops[i], chain_pops[(i + 1) % n_populations], \n",
    "        connector, synapse_type=pynn.StaticSynapse(weight=weights, delay=delays))\n",
    "    \n",
    "# Connect the simulus to start the chain\n",
    "pynn.Projection(stimulus, chain_pops[0], pynn.AllToAllConnector(), synapse_type=pynn.StaticSynapse(weight=5.0))\n",
    "\n",
    "# Run the Simulation\n",
    "pynn.run(simtime)\n",
    "\n",
    "# Extract the data\n",
    "neo_data = [pop.get_data(\"spikes\") for pop in chain_pops]\n",
    "\n",
    "spike_trains = [neo.segments[0].spiketrains for neo in neo_data]\n",
    "offset = 0\n",
    "for spike_train_list in spike_trains:\n",
    "    for spike_train in spike_train_list:\n",
    "        spike_train.annotations[\"source_index\"] += offset\n",
    "    offset += n_neurons\n",
    "\n",
    "# End the simulation\n",
    "pynn.end()"
   ]
  },
  {
   "cell_type": "code",
   "execution_count": null,
   "id": "b752c4c3-9f3f-48c3-9130-2602a9d23f8c",
   "metadata": {},
   "outputs": [],
   "source": [
    "# Plot the results\n",
    "import matplotlib.pyplot as plt\n",
    "import numpy\n",
    "import pyNN.utility.plotting as plotting\n",
    "%matplotlib inline\n",
    "\n",
    "colours = ['b', 'g', 'r', 'c', 'm', 'y', 'k']\n",
    "\n",
    "plt.figure()\n",
    "plt.xlim(0, simtime)\n",
    "plt.ylim(0, n_neurons * n_populations)\n",
    "offset = 0\n",
    "for i, pop_spikes in enumerate(spike_trains):\n",
    "    colour = colours[i % len(colours)]\n",
    "    for spike_train in pop_spikes:\n",
    "        neuron_id = spike_train.annotations['source_index'] + offset\n",
    "        plt.plot(spike_train, numpy.ones_like(spike_train) * neuron_id, \".\", color=colour)\n",
    "    offset += len(spike_train)\n",
    "plt.show()"
   ]
  },
  {
   "cell_type": "code",
   "execution_count": null,
   "id": "6410fd22-4649-4b46-bfba-080dce7ce57d",
   "metadata": {},
   "outputs": [],
   "source": []
  }
 ],
 "metadata": {
  "kernelspec": {
   "display_name": "EBRAINS-25.02",
   "language": "python",
   "name": "ebrains-25.02"
  },
  "language_info": {
   "codemirror_mode": {
    "name": "ipython",
    "version": 3
   },
   "file_extension": ".py",
   "mimetype": "text/x-python",
   "name": "python",
   "nbconvert_exporter": "python",
   "pygments_lexer": "ipython3",
   "version": "3.11.10"
  }
 },
 "nbformat": 4,
 "nbformat_minor": 5
}
