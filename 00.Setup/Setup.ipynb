{
 "cells": [
  {
   "cell_type": "markdown",
   "metadata": {},
   "source": [
    "# Jupyter Setup\n",
    "\n",
    "The code below is needed to create a sPyNNaker configuration file, which is needed on the first run of the software.\n",
    "It will be necessary to run this each time you start the Lab (it can also be added as the first cell in other notebooks if desired).\n",
    "A future image may already include this file and avoid the need to do this.\n"
   ]
  },
  {
   "cell_type": "code",
   "execution_count": null,
   "id": "e4db8b24-03a9-4b9f-aea0-6ed98003fafd",
   "metadata": {},
   "outputs": [],
   "source": [
    "import os\n",
    "\n",
    "# Make sure there is a spynnaker.cfg file\n",
    "with open(os.path.expanduser('~/.spynnaker.cfg'), 'w') as cfg:\n",
    "    cfg.write(\"[Machine]\\n\")\n",
    "    cfg.write(\"spalloc_server = https://spinnaker.cs.man.ac.uk/spalloc/\\n\")\n",
    "    cfg.write(\"\\n\")\n",
    "    cfg.write(\"[Java]\\n\")\n",
    "    cfg.write(\"use_java=True\\n\")\n",
    "    cfg.write(\"\\n\")\n",
    "    cfg.write(\"[Reports]\\n\")\n",
    "    cfg.write(\"read_provenance_data = False\\n\")\n"
   ]
  },
  {
  "cell_type": "markdown",
   "execution_count": null,
   "id": "c26d53e0-866c-46f2-9afb-ce2f0beb2701",
   "metadata": {},
   "outputs": [],
   "source": [
    "## Contents\n",
    " 1. [Running PyNN Simulations on SpiNNaker](../01.RunningPyNNSimulations/RunningPyNNSimulationsOnSpiNNaker.ipynb)\n",
    " 2. [Live Input and Output](../02.LiveInputAndOutput/LiveInputAndOutput.ipynb)\n"
   ]
  }
 ],
 "nbformat": 4,
 "nbformat_minor": 2
}
