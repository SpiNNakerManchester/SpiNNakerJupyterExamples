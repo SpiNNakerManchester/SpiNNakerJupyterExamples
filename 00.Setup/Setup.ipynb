{
 "cells": [
  {
   "cell_type": "markdown",
   "metadata": {},
   "source": [
    "# Jupyter Setup\n",
    "\n",
    "The code below is needed to create a sPyNNaker configuration file, which is needed on the first run of the software.\n",
    "It will be necessary to run this each time you start the Lab (it can also be added as the first cell in other notebooks if desired).\n",
    "A future image may already include this file and avoid the need to do this.\n"
   ]
  },
  {
   "cell_type": "code",
   "execution_count": null,
   "id": "e4db8b24-03a9-4b9f-aea0-6ed98003fafd",
   "metadata": {},
   "outputs": [],
   "source": [
    "import configparser\n",
    "import os\n",
    "from unittest import SkipTest\n",
    "\n",
    "OVERRIDE_EXISTING = False\n",
    "FULL_PATH = os.path.expanduser('~/.spynnaker.cfg')\n",
    "\n",
    "\n",
    "def check_should_create():\n",
    "    \"\"\"\n",
    "    Detects if there is an existing cfg file and if so if it should overwrite\n",
    "    :return:\n",
    "    \"\"\"\n",
    "    if not os.path.isfile(FULL_PATH):\n",
    "        return True\n",
    "    if OVERRIDE_EXISTING:\n",
    "        return True\n",
    "\n",
    "    # check if the cfg has the correct server if not overwrite it\n",
    "    config = configparser.ConfigParser()\n",
    "    config.read(FULL_PATH)\n",
    "    if config.has_option(\"Machine\", \"virtual\"):\n",
    "        # Dont overwrite a cfg that says run virtual\n",
    "        if config.getboolean(\"Machine\", \"virtual\"):\n",
    "            return True\n",
    "    if config.has_option(\"Machine\", \"spalloc_server\"):\n",
    "        server = config.get(\"Machine\", \"spalloc_server\")\n",
    "        # overwrite a cfg with a none server (which is the default)\n",
    "        if server.lower() == \"none\":\n",
    "            return True\n",
    "\n",
    "    # SkipTest as unittest considers this neither a failure nor a success\n",
    "    raise SkipTest(f\"{FULL_PATH} already exists. \"\n",
    "                   \"To replace it change OVERRIDE_EXISTING to True\")\n",
    "\n",
    "\n",
    "check_should_create()\n",
    "\n",
    "# Make sure there is a spynnaker.cfg file\n",
    "with open(FULL_PATH, 'w') as cfg:\n",
    "    cfg.write(\"[Machine]\\n\")\n",
    "    cfg.write(\"spalloc_server = https://spinnaker.cs.man.ac.uk/spalloc/\\n\")\n",
    "    cfg.write(\"\\n\")\n",
    "    cfg.write(\"[Java]\\n\")\n",
    "    cfg.write(\"use_java=True\\n\")\n",
    "    cfg.write(\"\\n\")\n",
    "    cfg.write(\"[Reports]\\n\")\n",
    "    cfg.write(\"read_provenance_data = False\\n\")\n",
    "    print(f\"New {FULL_PATH} created\")\n"
   ]
  },
  {
   "cell_type": "markdown",
   "execution_count": null,
   "id": "c26d53e0-866c-46f2-9afb-ce2f0beb2701",
   "metadata": {},
   "outputs": [],
   "source": [
    "## Contents\n",
    " 1. [Running PyNN Simulations on SpiNNaker](../01.RunningPyNNSimulations/RunningPyNNSimulationsOnSpiNNaker.ipynb)\n",
    " 2. [Live Input and Output](../02.LiveInputAndOutput/LiveInputAndOutput.ipynb)\n"
   ]
  }
 ],
 "metadata": {
 },
 "nbformat": 4,
 "nbformat_minor": 2
}