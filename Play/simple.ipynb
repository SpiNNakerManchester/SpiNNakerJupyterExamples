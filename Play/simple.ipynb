{
 "cells": [
  {
   "cell_type": "code",
   "execution_count": null,
   "metadata": {
    "collapsed": true
   },
   "outputs": [],
   "source": [
    "import spynnaker.pyNN as sim\n",
    "\n",
    "sim.setup(timestep=1.0)\n",
    "sim.set_number_of_neurons_per_core(sim.IF_curr_exp, 100)\n",
    "\n",
    "pop_1 = sim.Population(1, sim.IF_curr_exp(), label=\"pop_1\")\n",
    "input_pop = sim.Population(\n",
    "    1, sim.SpikeSourceArray(spike_times=[0]), label=\"input\")\n",
    "input_proj = sim.Projection(input_pop, pop_1, sim.OneToOneConnector(),\n",
    "                            synapse_type=sim.StaticSynapse(weight=5, delay=1))\n",
    "pop_1.record([\"spikes\", \"v\"])\n",
    "simtime = 10\n",
    "sim.run(simtime)\n",
    "sim.end()"
   ]
  },
  {
   "cell_type": "code",
   "execution_count": null,
   "outputs": [],
   "source": [],
   "metadata": {
    "collapsed": false,
    "pycharm": {
     "name": "#%%\n"
    }
   }
  }
 ],
 "metadata": {
 },
 "nbformat": 4,
 "nbformat_minor": 0
}