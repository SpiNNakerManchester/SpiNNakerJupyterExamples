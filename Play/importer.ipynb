{
 "cells": [
  {
   "cell_type": "code",
   "execution_count": null,
   "metadata": {
    "collapsed": true
   },
   "outputs": [],
   "source": [
    "from spinn_utilities.ordered_set import OrderedSet\n",
    "\n",
    "o = OrderedSet()\n",
    "assert o is not None\n",
    "o.add(1)\n",
    "print(\"o\")\n",
    "assert (len(o)==1)"
   ]
  },
  {
   "cell_type": "code",
   "execution_count": null,
   "outputs": [],
   "source": [],
   "metadata": {
    "collapsed": false,
    "pycharm": {
     "name": "#%%\n"
    }
   }
  }
 ],
 "metadata": {
 },
 "nbformat": 4,
 "nbformat_minor": 0
}