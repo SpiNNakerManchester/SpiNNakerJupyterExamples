{
 "cells": [
  {
   "cell_type": "code",
   "execution_count": 3,
   "id": "d0188c25-27a6-468e-af74-fdb09c332e2f",
   "metadata": {},
   "outputs": [
    {
     "name": "stdout",
     "output_type": "stream",
     "text": [
      "Hello World\n"
     ]
    }
   ],
   "source": [
    "print(\"Hello World\")"
   ]
  },
  {
   "cell_type": "code",
   "execution_count": null,
   "id": "763349ab-6ae5-456e-8abb-1802457289a5",
   "metadata": {},
   "outputs": [],
   "source": []
  },
  {
   "cell_type": "code",
   "execution_count": null,
   "id": "e020fffc-afc6-4cd7-9594-dcfbbe132c4c",
   "metadata": {},
   "outputs": [],
   "source": []
  }
 ],
 "metadata": {
 },
 "nbformat": 4,
 "nbformat_minor": 5
}